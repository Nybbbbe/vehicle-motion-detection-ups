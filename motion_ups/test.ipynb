{
 "cells": [
  {
   "cell_type": "code",
   "execution_count": 1,
   "metadata": {},
   "outputs": [],
   "source": [
    "from PIL import Image\n",
    "\n",
    "# Replace 'path_to_spectrogram' with an actual file path\n",
    "path_to_spectrogram = 'C:/Users/janny/Aalto_project_2/data/hirtenweg1\\\\audio_0\\\\1874.jpg'\n",
    "try:\n",
    "    with Image.open(path_to_spectrogram) as img:\n",
    "        img.show()  # This should display the image\n",
    "except Exception as e:\n",
    "    print(f\"Error opening image: {e}\")"
   ]
  }
 ],
 "metadata": {
  "kernelspec": {
   "display_name": "venv",
   "language": "python",
   "name": "python3"
  },
  "language_info": {
   "codemirror_mode": {
    "name": "ipython",
    "version": 3
   },
   "file_extension": ".py",
   "mimetype": "text/x-python",
   "name": "python",
   "nbconvert_exporter": "python",
   "pygments_lexer": "ipython3",
   "version": "3.10.11"
  }
 },
 "nbformat": 4,
 "nbformat_minor": 2
}
